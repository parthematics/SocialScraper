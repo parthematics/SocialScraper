{
 "cells": [
  {
   "cell_type": "code",
   "execution_count": 1,
   "metadata": {},
   "outputs": [],
   "source": [
    "#! usr/bin/env python3\n",
    "import praw\n",
    "import pandas as pd\n",
    "import datetime as dt\n",
    "\n",
    "reddit = praw.Reddit(client_id='7_LuIlOvK_BSzw', \\\n",
    "                     client_secret='LziyMCB1X-6zJgIReTLeCo2_dWo', \\\n",
    "                     user_agent='CryptoScraper', \\\n",
    "                     username='parthematics', \\\n",
    "                     password='ilovemath')"
   ]
  },
  {
   "cell_type": "code",
   "execution_count": 3,
   "metadata": {},
   "outputs": [],
   "source": [
    "openreddit = reddit.subreddit('OPENPlatform')"
   ]
  },
  {
   "cell_type": "code",
   "execution_count": 5,
   "metadata": {},
   "outputs": [
    {
     "name": "stdout",
     "output_type": "stream",
     "text": [
      "Welcome to the OPEN Platform Subreddit! Click here for subreddit rules, resources and information about OPEN Platform! 7t6wm9\n",
      "OPEN Developer Program and Developer Whitelist is Open! 7ztimu\n",
      "OPEN is ranked #2 for upcoming ICO projects 87uufn\n",
      "Do you guys think OPEN will be bigger than Wanchain? I see OPEN attacking a much larger market. But still so much hype around Wanchain 8azcw2\n",
      "Draper Dragon backs OPEN’s blockchain payments infrastructure for apps 87x194\n"
     ]
    }
   ],
   "source": [
    "for submission in openreddit.top(limit=5):\n",
    "    print(submission.title, submission.id)"
   ]
  },
  {
   "cell_type": "code",
   "execution_count": null,
   "metadata": {},
   "outputs": [],
   "source": []
  }
 ],
 "metadata": {
  "kernelspec": {
   "display_name": "Python 3",
   "language": "python",
   "name": "python3"
  },
  "language_info": {
   "codemirror_mode": {
    "name": "ipython",
    "version": 3
   },
   "file_extension": ".py",
   "mimetype": "text/x-python",
   "name": "python",
   "nbconvert_exporter": "python",
   "pygments_lexer": "ipython3",
   "version": "3.7.0"
  }
 },
 "nbformat": 4,
 "nbformat_minor": 2
}
